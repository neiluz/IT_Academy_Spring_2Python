{
 "cells": [
  {
   "cell_type": "markdown",
   "id": "93655054",
   "metadata": {},
   "source": [
    "# Spring 2: Tarea M2 T01"
   ]
  },
  {
   "cell_type": "markdown",
   "id": "f0c7adeb",
   "metadata": {},
   "source": [
    "**Ejercicios de estructuras de datos con Python.**"
   ]
  },
  {
   "cell_type": "markdown",
   "id": "52f24efe",
   "metadata": {},
   "source": [
    "## Ejercicio N° 1\n"
   ]
  },
  {
   "cell_type": "markdown",
   "id": "26c68cb6",
   "metadata": {},
   "source": [
    "Crea una lista que agrupe los meses del año en trimestres (1T: enero, febrero y marzo; 2T: abril, mayo, junio...), es decir, una lista con 4 listas dentro."
   ]
  },
  {
   "cell_type": "code",
   "execution_count": 77,
   "id": "9e3abe34",
   "metadata": {},
   "outputs": [
    {
     "data": {
      "text/plain": [
       "[['Enero', 'Febrero', 'Marzo'],\n",
       " ['Abril', 'Mayo', 'Junio'],\n",
       " ['Julio', 'Agosto', 'Septiembre'],\n",
       " ['Octubre', 'Noviembre', 'Diciembre']]"
      ]
     },
     "execution_count": 77,
     "metadata": {},
     "output_type": "execute_result"
    }
   ],
   "source": [
    "quatrimestre_list = [[\"Enero\",\"Febrero\",\"Marzo\"], [\"Abril\",\"Mayo\",\"Junio\"],[\"Julio\",\"Agosto\",\"Septiembre\"], \n",
    "                     [\"Octubre\",\"Noviembre\",\"Diciembre\"]]\n",
    "quatrimestre_list"
   ]
  },
  {
   "cell_type": "markdown",
   "id": "796cc77b",
   "metadata": {},
   "source": [
    "## Ejercicio N° 2"
   ]
  },
  {
   "cell_type": "markdown",
   "id": "7f2a368d",
   "metadata": {},
   "source": [
    "Crea un código que te permita acceder a:"
   ]
  },
  {
   "cell_type": "markdown",
   "id": "eac3d54d",
   "metadata": {},
   "source": [
    "### El segundo mes del primer trimestre."
   ]
  },
  {
   "cell_type": "code",
   "execution_count": 11,
   "id": "fcdf5f66",
   "metadata": {},
   "outputs": [
    {
     "name": "stdout",
     "output_type": "stream",
     "text": [
      "EL segundo mes del primer trimestre es Febrero\n"
     ]
    }
   ],
   "source": [
    "print (\"EL segundo mes del primer trimestre es \" + quatrimestre_list[0][1])"
   ]
  },
  {
   "cell_type": "markdown",
   "id": "38dbcd82",
   "metadata": {},
   "source": [
    "### Los meses del primer trimestre."
   ]
  },
  {
   "cell_type": "code",
   "execution_count": 14,
   "id": "27000e3f",
   "metadata": {},
   "outputs": [
    {
     "name": "stdout",
     "output_type": "stream",
     "text": [
      "['Enero', 'Febrero', 'Marzo']\n"
     ]
    }
   ],
   "source": [
    "print (quatrimestre_list[0])"
   ]
  },
  {
   "cell_type": "markdown",
   "id": "bd515f73",
   "metadata": {},
   "source": [
    "### Septiembre y octubre."
   ]
  },
  {
   "cell_type": "code",
   "execution_count": 16,
   "id": "32d75151",
   "metadata": {},
   "outputs": [
    {
     "name": "stdout",
     "output_type": "stream",
     "text": [
      "Septiembre y Octubre\n"
     ]
    }
   ],
   "source": [
    "print (quatrimestre_list[2][2] + \" y \" + quatrimestre_list[3][0])"
   ]
  },
  {
   "cell_type": "markdown",
   "id": "4b1f1b0e",
   "metadata": {},
   "source": [
    "## Ejercicio N° 3"
   ]
  },
  {
   "cell_type": "markdown",
   "id": "184110a2",
   "metadata": {},
   "source": [
    "Crea una lista con números desordenados y responde a las siguientes preguntas:"
   ]
  },
  {
   "cell_type": "code",
   "execution_count": 2,
   "id": "85354ee5",
   "metadata": {},
   "outputs": [
    {
     "data": {
      "text/plain": [
       "[14, 9, 16, 23, 11, 27, 18, 19, 21, 26, 12, 28]"
      ]
     },
     "execution_count": 2,
     "metadata": {},
     "output_type": "execute_result"
    }
   ],
   "source": [
    "import random \n",
    "random_list = random.sample (range(30),12)\n",
    "random_list"
   ]
  },
  {
   "cell_type": "markdown",
   "id": "7c96ef03",
   "metadata": {},
   "source": [
    "### ¿Cuántos números hay?"
   ]
  },
  {
   "cell_type": "code",
   "execution_count": 3,
   "id": "3440a2aa",
   "metadata": {},
   "outputs": [
    {
     "name": "stdout",
     "output_type": "stream",
     "text": [
      "12\n"
     ]
    }
   ],
   "source": [
    "print (len(random_list))"
   ]
  },
  {
   "cell_type": "markdown",
   "id": "977fc924",
   "metadata": {},
   "source": [
    "### ¿Cuántas veces aparece el número 3?."
   ]
  },
  {
   "cell_type": "code",
   "execution_count": 4,
   "id": "ee283408",
   "metadata": {},
   "outputs": [
    {
     "name": "stdout",
     "output_type": "stream",
     "text": [
      "El número 3 aparece 0 vez\n"
     ]
    }
   ],
   "source": [
    "num_repetido = random_list.count(3)\n",
    "print (f\"El número 3 aparece {random_list.count(3)} vez\")"
   ]
  },
  {
   "cell_type": "markdown",
   "id": "19f0d0cb",
   "metadata": {},
   "source": [
    "### ¿Cuántas veces aparecen los números 3 y 4?"
   ]
  },
  {
   "cell_type": "code",
   "execution_count": 5,
   "id": "90565ebd",
   "metadata": {},
   "outputs": [
    {
     "name": "stdout",
     "output_type": "stream",
     "text": [
      "El número 3 aparece 0 veces y el número 4 aparece  0 veces.\n"
     ]
    }
   ],
   "source": [
    "print (f\"El número 3 aparece {random_list.count(3)} veces y el número 4 aparece  {random_list.count(4)} veces.\")"
   ]
  },
  {
   "cell_type": "markdown",
   "id": "c4f64213",
   "metadata": {},
   "source": [
    "### ¿Cuál es el mayor número?"
   ]
  },
  {
   "cell_type": "code",
   "execution_count": 6,
   "id": "b25ca687",
   "metadata": {},
   "outputs": [
    {
     "name": "stdout",
     "output_type": "stream",
     "text": [
      "El número máximo es 28.\n"
     ]
    }
   ],
   "source": [
    "print (f\"El número máximo es {max (random_list)}.\")"
   ]
  },
  {
   "cell_type": "markdown",
   "id": "34b71c59",
   "metadata": {},
   "source": [
    "### ¿Cuáles son los 3 números más pequeños?"
   ]
  },
  {
   "cell_type": "code",
   "execution_count": 7,
   "id": "0b6982d4",
   "metadata": {},
   "outputs": [
    {
     "name": "stdout",
     "output_type": "stream",
     "text": [
      "Los 3 números mas pequeño son [9, 11, 12].\n"
     ]
    }
   ],
   "source": [
    "orden_list = sorted (random_list)\n",
    "print (f\"Los 3 números mas pequeño son {orden_list[:3]}.\")"
   ]
  },
  {
   "cell_type": "markdown",
   "id": "dc33df6a",
   "metadata": {},
   "source": [
    "### ¿Cuál es el rango de esa lista?"
   ]
  },
  {
   "cell_type": "code",
   "execution_count": 78,
   "id": "c9e3c7a6",
   "metadata": {},
   "outputs": [
    {
     "name": "stdout",
     "output_type": "stream",
     "text": [
      "28 es el rango de la lista\n"
     ]
    }
   ],
   "source": [
    "print(f\"{max(random_list) - min(random_list)} es el rango de la lista\")"
   ]
  },
  {
   "cell_type": "markdown",
   "id": "7404c4f1",
   "metadata": {},
   "source": [
    "## Ejercicio N° 4"
   ]
  },
  {
   "cell_type": "markdown",
   "id": "2d4912d8",
   "metadata": {},
   "source": [
    "### Añade alguna fruta más"
   ]
  },
  {
   "cell_type": "markdown",
   "id": "214a5acf",
   "metadata": {},
   "source": [
    "Crea un diccionario de la siguiente forma y responde a las preguntas:\n",
    "\n",
    "compra = { \"Manzana\" : {\"Qty\": 5, \"€\": 0.42}, \"Peras\" : {\"Qty\": 3, \"€\": 0.66} }\n"
   ]
  },
  {
   "cell_type": "code",
   "execution_count": 2,
   "id": "97feae93",
   "metadata": {},
   "outputs": [],
   "source": [
    "compra = { \"Manzana\" : {\"Qty\": 5, \"€\": 0.42}, \"Pera\" : {\"Qty\": 3, \"€\": 0.66} }"
   ]
  },
  {
   "cell_type": "markdown",
   "id": "a28200da",
   "metadata": {},
   "source": [
    "### Añade alguna fruta más"
   ]
  },
  {
   "cell_type": "code",
   "execution_count": 3,
   "id": "15bd151f",
   "metadata": {},
   "outputs": [
    {
     "name": "stdout",
     "output_type": "stream",
     "text": [
      "{'Manzana': {'Qty': 5, '€': 0.42}, 'Pera': {'Qty': 3, '€': 0.66}, 'Ciruela': {'Qty': 6, '€': 0.45}}\n"
     ]
    }
   ],
   "source": [
    "compra[\"Ciruela\"] = {\"Qty\": 6, \"€\": 0.45}\n",
    "\n",
    "print(compra)"
   ]
  },
  {
   "cell_type": "markdown",
   "id": "126b56e5",
   "metadata": {},
   "source": [
    "### ¿Cuánto han costado las peras en total?"
   ]
  },
  {
   "cell_type": "code",
   "execution_count": 4,
   "id": "d3de942f",
   "metadata": {},
   "outputs": [
    {
     "name": "stdout",
     "output_type": "stream",
     "text": [
      "Las peras han costado 1.98 €.\n"
     ]
    }
   ],
   "source": [
    "peras_total = compra[\"Pera\"][\"Qty\"] * compra[\"Pera\"][\"€\"]\n",
    "print (f\"Las peras han costado {peras_total} €.\")"
   ]
  },
  {
   "cell_type": "markdown",
   "id": "2ee26978",
   "metadata": {},
   "source": [
    "### ¿Cuántas frutas hemos comprado en total?"
   ]
  },
  {
   "cell_type": "code",
   "execution_count": 10,
   "id": "bb933514",
   "metadata": {},
   "outputs": [
    {
     "name": "stdout",
     "output_type": "stream",
     "text": [
      "Se compraron en total 3 frutas y un total de 14 piezas.\n"
     ]
    }
   ],
   "source": [
    "frutas_total = len(compra.keys())\n",
    "frutas_total\n",
    "\n",
    "piezas_total = sum(x[\"Qty\"]for x in compra.values())\n",
    "piezas_total \n",
    "\n",
    "print (f\"Se compraron en total {frutas_total} frutas y un total de {piezas_total } piezas.\")"
   ]
  },
  {
   "cell_type": "markdown",
   "id": "e9a84262",
   "metadata": {},
   "source": [
    "### ¿Cuál es la fruta más cara?"
   ]
  },
  {
   "cell_type": "code",
   "execution_count": 11,
   "id": "c94c5167",
   "metadata": {},
   "outputs": [
    {
     "name": "stdout",
     "output_type": "stream",
     "text": [
      "La fruta mas cara fue de 0.66 €.\n"
     ]
    }
   ],
   "source": [
    "fruta_cara = max(x[\"€\"]for x in compra.values())\n",
    "fruta_cara\n",
    "print (f\"La fruta mas cara fue de {fruta_cara} €.\")"
   ]
  }
 ],
 "metadata": {
  "kernelspec": {
   "display_name": "Python 3 (ipykernel)",
   "language": "python",
   "name": "python3"
  },
  "language_info": {
   "codemirror_mode": {
    "name": "ipython",
    "version": 3
   },
   "file_extension": ".py",
   "mimetype": "text/x-python",
   "name": "python",
   "nbconvert_exporter": "python",
   "pygments_lexer": "ipython3",
   "version": "3.9.12"
  },
  "toc": {
   "base_numbering": 1,
   "nav_menu": {},
   "number_sections": true,
   "sideBar": true,
   "skip_h1_title": false,
   "title_cell": "Table of Contents",
   "title_sidebar": "Contents",
   "toc_cell": false,
   "toc_position": {},
   "toc_section_display": true,
   "toc_window_display": false
  },
  "varInspector": {
   "cols": {
    "lenName": 16,
    "lenType": 16,
    "lenVar": 40
   },
   "kernels_config": {
    "python": {
     "delete_cmd_postfix": "",
     "delete_cmd_prefix": "del ",
     "library": "var_list.py",
     "varRefreshCmd": "print(var_dic_list())"
    },
    "r": {
     "delete_cmd_postfix": ") ",
     "delete_cmd_prefix": "rm(",
     "library": "var_list.r",
     "varRefreshCmd": "cat(var_dic_list()) "
    }
   },
   "types_to_exclude": [
    "module",
    "function",
    "builtin_function_or_method",
    "instance",
    "_Feature"
   ],
   "window_display": false
  }
 },
 "nbformat": 4,
 "nbformat_minor": 5
}
