{
 "cells": [
  {
   "cell_type": "markdown",
   "id": "ca458c79",
   "metadata": {},
   "source": [
    "# Spring 2: Tarea M2 T02"
   ]
  },
  {
   "cell_type": "markdown",
   "id": "023dff3f",
   "metadata": {},
   "source": [
    "**Ejercicios de estructuras de control con Python.**"
   ]
  },
  {
   "cell_type": "markdown",
   "id": "a5ac44cd",
   "metadata": {},
   "source": [
    "## Ejercicio N° 1"
   ]
  },
  {
   "cell_type": "markdown",
   "id": "a718a3a9",
   "metadata": {},
   "source": [
    "El ejercicio consiste en crear un programa que te clasifique una variable numérica en función de la escala Suspendido/Aprobado/Notable/Excelente.\n",
    "\n",
    "Recuerda que Suspendido < 5, Aprobado > 5 y < 7, Notable > 7 y < 9 y Excelente > 9."
   ]
  },
  {
   "cell_type": "code",
   "execution_count": 23,
   "id": "13a1a80b",
   "metadata": {},
   "outputs": [],
   "source": [
    "def nota (num):\n",
    "    if num < 0 or num > 10:\n",
    "        mensaje= \"Nota no valida\"\n",
    "    elif num < 5:\n",
    "        mensaje=\"Suspendido\"\n",
    "    elif num < 7:\n",
    "        mensaje = \"Aprobado\"\n",
    "    elif num < 9:\n",
    "        mensaje = \"Notable\"\n",
    "    else :\n",
    "        mensaje = \"Excelente\"\n",
    "    return mensaje  "
   ]
  },
  {
   "cell_type": "code",
   "execution_count": 24,
   "id": "98a7a85a",
   "metadata": {},
   "outputs": [
    {
     "name": "stdout",
     "output_type": "stream",
     "text": [
      "Suspendido\n",
      "Aprobado\n",
      "Nota no valida\n",
      "Notable\n",
      "Excelente\n",
      "Excelente\n",
      "Nota no valida\n"
     ]
    }
   ],
   "source": [
    "print(nota(3))\n",
    "print(nota(5))\n",
    "print(nota(-1))\n",
    "print(nota(7))\n",
    "print(nota(9))\n",
    "print(nota(10))\n",
    "print(nota(12))"
   ]
  },
  {
   "cell_type": "markdown",
   "id": "5ad59b93",
   "metadata": {},
   "source": [
    "## Ejercicio N° 2"
   ]
  },
  {
   "cell_type": "markdown",
   "id": "01c50462",
   "metadata": {},
   "source": [
    "Utilizando el siguiente tutorial, crea un programa que te pregunte dos números. Debe mostrarte un mensaje diciendo si el primero es mayor, el segundo es mayor o son iguales."
   ]
  },
  {
   "cell_type": "code",
   "execution_count": 2,
   "id": "9d945741",
   "metadata": {},
   "outputs": [],
   "source": [
    "#Se crea una función para validar que el número no sea un string.\n",
    "#Se asume que el número puede ser positio, negativo, entero o con decimales\n",
    "\n",
    "def valido_num (cadena):\n",
    "    try:\n",
    "        float(cadena)\n",
    "        mensaje = True\n",
    "    except ValueError:\n",
    "        mensaje = False\n",
    "    return mensaje"
   ]
  },
  {
   "cell_type": "code",
   "execution_count": 3,
   "id": "c2e7d80c",
   "metadata": {},
   "outputs": [],
   "source": [
    "#Se crea una función para evaluar el número no sea un string.\n",
    "\n",
    "def eval_num(x,y):\n",
    "    if valido_num (x) & valido_num (y):\n",
    "        if x == y:\n",
    "            mensaje = \"Los números son iguales\"\n",
    "        elif x>y:\n",
    "            mensaje = \"El número 1 es mayor que el número 2\"  \n",
    "        else:\n",
    "            mensaje = \"El número 2 es mayor que el número 1\"\n",
    "    else:  \n",
    "        mensaje = \"Alguno de los dos números es un caracter, por favor corra nuevamente la función\"\n",
    "    return mensaje"
   ]
  },
  {
   "cell_type": "code",
   "execution_count": 4,
   "id": "b4bea756",
   "metadata": {
    "scrolled": true
   },
   "outputs": [
    {
     "name": "stdout",
     "output_type": "stream",
     "text": [
      "Introduce el primer número, por favor: 6\n",
      "Introduce el segundo número, por favor: 7\n"
     ]
    },
    {
     "data": {
      "text/plain": [
       "'El número 2 es mayor que el número 1'"
      ]
     },
     "execution_count": 4,
     "metadata": {},
     "output_type": "execute_result"
    }
   ],
   "source": [
    "x = input(\"Introduce el primer número, por favor: \")\n",
    "y = input(\"Introduce el segundo número, por favor: \")\n",
    "\n",
    "eval_num(x,y)"
   ]
  },
  {
   "cell_type": "markdown",
   "id": "73249a02",
   "metadata": {},
   "source": [
    "## Ejercicio N° 3"
   ]
  },
  {
   "cell_type": "markdown",
   "id": "a133f7f9",
   "metadata": {},
   "source": [
    "Crea un programa que te pregunte tu nombre y te pida un número. Si el número es 0, debería mostrar un mensaje de error. De lo contrario, debería mostrar el nombre repetido tantas veces como indique el número. Por ejemplo, \"Joan Joan Joan\"."
   ]
  },
  {
   "cell_type": "code",
   "execution_count": 5,
   "id": "3334996d",
   "metadata": {},
   "outputs": [],
   "source": [
    "#Se crea una función para repetir un nombre.\n",
    "#El número debe ser entero.\n",
    "\n",
    "def rep_nombre(nombre,num):\n",
    "    num=int(num)\n",
    "    if num <= 0:\n",
    "        mensaje = \"Error. No se puede repetir el nombre\"\n",
    "    else:\n",
    "        for i in range (num):\n",
    "            mensaje = print (nombre)\n",
    "    return mensaje"
   ]
  },
  {
   "cell_type": "code",
   "execution_count": 6,
   "id": "333fd456",
   "metadata": {},
   "outputs": [
    {
     "name": "stdout",
     "output_type": "stream",
     "text": [
      "Introduce tu nombre, por favor: Grecia\n",
      "Introduce un número, por favor: 5\n",
      "Grecia\n",
      "Grecia\n",
      "Grecia\n",
      "Grecia\n",
      "Grecia\n"
     ]
    }
   ],
   "source": [
    "nombre = str (input(\"Introduce tu nombre, por favor: \"))\n",
    "num = input(\"Introduce un número, por favor: \")\n",
    "\n",
    "rep_nombre(nombre,num)"
   ]
  },
  {
   "cell_type": "markdown",
   "id": "2240cedd",
   "metadata": {},
   "source": [
    "## Ejercicio N° 4"
   ]
  },
  {
   "cell_type": "markdown",
   "id": "def5002f",
   "metadata": {},
   "source": [
    "Crea un programa que dada una lista cualquiera, te diga si es simétrica o no. Si lo es, que te diga cuántos elementos tiene."
   ]
  },
  {
   "cell_type": "code",
   "execution_count": 8,
   "id": "fb565e2d",
   "metadata": {},
   "outputs": [],
   "source": [
    "#Se genera una lista creando una funcion, utilizando la función random\n",
    "\n",
    "import random \n",
    "def lista_random ():\n",
    "    lista = []\n",
    "    print(\"Ingrese cuantos números aleatorios desea obtener\")\n",
    "    n=int(input())\n",
    "    lista = [0]  * n\n",
    "    for i in range(n): \n",
    "        lista[i] = random.randint(0, 20)\n",
    "    return lista"
   ]
  },
  {
   "cell_type": "code",
   "execution_count": 9,
   "id": "0e7c187f",
   "metadata": {},
   "outputs": [],
   "source": [
    "#Se crea una función para invertir la lista, utilizando indexación\n",
    "\n",
    "def rev_lista(lista):\n",
    "    nueva_lista = []\n",
    "    nueva_lista = lista[::-1]\n",
    "    return nueva_lista"
   ]
  },
  {
   "cell_type": "code",
   "execution_count": 10,
   "id": "dbac053e",
   "metadata": {},
   "outputs": [],
   "source": [
    "#Se crea una funcion para evaluar si la lista es simétrica\n",
    "\n",
    "def es_simetrica(lista):\n",
    "    if lista == rev_lista(lista):\n",
    "        mensaje = f\"{lista} es una lista simétrica y tiene {len(lista)} elementos\"\n",
    "    else:\n",
    "        mensaje = f\"{lista} No es una lista simétrica\"\n",
    "    return mensaje"
   ]
  },
  {
   "cell_type": "code",
   "execution_count": 12,
   "id": "50b2612f",
   "metadata": {},
   "outputs": [
    {
     "name": "stdout",
     "output_type": "stream",
     "text": [
      "Ingrese cuantos numeros aleatorios desea obtener\n",
      "8\n"
     ]
    },
    {
     "data": {
      "text/plain": [
       "'[8, 5, 12, 6, 8, 13, 7, 10] No es una lista simetrica'"
      ]
     },
     "execution_count": 12,
     "metadata": {},
     "output_type": "execute_result"
    }
   ],
   "source": [
    "es_simetrica(lista_random())"
   ]
  },
  {
   "cell_type": "markdown",
   "id": "9cb85e64",
   "metadata": {},
   "source": [
    "## Ejercicio N° 5"
   ]
  },
  {
   "cell_type": "markdown",
   "id": "8e47e4e4",
   "metadata": {},
   "source": [
    "Crea un programa que dada una lista, te diga cuántos números coinciden con su posición. Por ejemplo [3,4,2,0,2,3,6] el 2 y el 6 coinciden."
   ]
  },
  {
   "cell_type": "code",
   "execution_count": 11,
   "id": "e4591b48",
   "metadata": {},
   "outputs": [],
   "source": [
    "#Se crea una función para identificar si el indice de la lista coincide con el número.\n",
    "\n",
    "def posicion_igual(lista):\n",
    "    lista_pos = []\n",
    "    for i,j in enumerate(lista):\n",
    "        if i == j:\n",
    "            lista_pos.append(j)\n",
    "            mensaje = \"Coincide el indice y el valor {0} veces en las posiciones {1}\".format(len(lista_pos),lista_pos)\n",
    "        else: \n",
    "            mensaje = \"No hay coincidencia de posiciones\"\n",
    "    return mensaje"
   ]
  },
  {
   "cell_type": "code",
   "execution_count": 12,
   "id": "2fbd67db",
   "metadata": {},
   "outputs": [
    {
     "name": "stdout",
     "output_type": "stream",
     "text": [
      "Ingrese cuantos números aleatorios desea obtener\n",
      "6\n",
      "[15, 20, 4, 16, 12, 14]\n",
      "No hay coincidencia de posiciones\n"
     ]
    }
   ],
   "source": [
    "# Se utiliza la función creada en el ejercicio 4, lista_random.\n",
    "\n",
    "lista = lista_random ()\n",
    "print (lista)\n",
    "print(posicion_igual(lista))"
   ]
  }
 ],
 "metadata": {
  "kernelspec": {
   "display_name": "Python 3 (ipykernel)",
   "language": "python",
   "name": "python3"
  },
  "language_info": {
   "codemirror_mode": {
    "name": "ipython",
    "version": 3
   },
   "file_extension": ".py",
   "mimetype": "text/x-python",
   "name": "python",
   "nbconvert_exporter": "python",
   "pygments_lexer": "ipython3",
   "version": "3.9.12"
  },
  "toc": {
   "base_numbering": 1,
   "nav_menu": {},
   "number_sections": true,
   "sideBar": true,
   "skip_h1_title": false,
   "title_cell": "Table of Contents",
   "title_sidebar": "Contents",
   "toc_cell": false,
   "toc_position": {},
   "toc_section_display": true,
   "toc_window_display": false
  },
  "varInspector": {
   "cols": {
    "lenName": 16,
    "lenType": 16,
    "lenVar": 40
   },
   "kernels_config": {
    "python": {
     "delete_cmd_postfix": "",
     "delete_cmd_prefix": "del ",
     "library": "var_list.py",
     "varRefreshCmd": "print(var_dic_list())"
    },
    "r": {
     "delete_cmd_postfix": ") ",
     "delete_cmd_prefix": "rm(",
     "library": "var_list.r",
     "varRefreshCmd": "cat(var_dic_list()) "
    }
   },
   "types_to_exclude": [
    "module",
    "function",
    "builtin_function_or_method",
    "instance",
    "_Feature"
   ],
   "window_display": false
  }
 },
 "nbformat": 4,
 "nbformat_minor": 5
}
